{
  "nbformat": 4,
  "nbformat_minor": 0,
  "metadata": {
    "colab": {
      "provenance": [],
      "include_colab_link": true
    },
    "kernelspec": {
      "name": "python3",
      "display_name": "Python 3"
    },
    "language_info": {
      "name": "python"
    }
  },
  "cells": [
    {
      "cell_type": "markdown",
      "metadata": {
        "id": "view-in-github",
        "colab_type": "text"
      },
      "source": [
        "<a href=\"https://colab.research.google.com/github/victormutuku/Compiler-Construction/blob/main/Compiler_Construction_Running_File.ipynb\" target=\"_parent\"><img src=\"https://colab.research.google.com/assets/colab-badge.svg\" alt=\"Open In Colab\"/></a>"
      ]
    },
    {
      "cell_type": "markdown",
      "source": [
        "## Group Members :113342, 120821, 123011,120574, 121471\n"
      ],
      "metadata": {
        "id": "6mIRwGECmGQJ"
      }
    },
    {
      "cell_type": "markdown",
      "source": [
        "## Lab Activity 1: Flex, Bison, Lex, Yacc\n",
        "Give brief descriptions of the tools mentioned above.\n",
        "\n",
        "The description should have: 3-5 lines definition, diagram and code snippet\n",
        "\n"
      ],
      "metadata": {
        "id": "I47WyNIumSuV"
      }
    },
    {
      "cell_type": "code",
      "execution_count": null,
      "metadata": {
        "id": "B8q9okIFl8MA"
      },
      "outputs": [],
      "source": []
    },
    {
      "cell_type": "markdown",
      "source": [
        "## References"
      ],
      "metadata": {
        "id": "tpnZU-VbmyVw"
      }
    },
    {
      "cell_type": "markdown",
      "source": [
        "## Lab Activity 2"
      ],
      "metadata": {
        "id": "eH4r4sxPnjwc"
      }
    },
    {
      "cell_type": "code",
      "source": [],
      "metadata": {
        "id": "j3sTZ0jwninR"
      },
      "execution_count": null,
      "outputs": []
    }
  ]
}